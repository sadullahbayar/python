{
 "cells": [
  {
   "cell_type": "code",
   "execution_count": 14,
   "metadata": {},
   "outputs": [],
   "source": [
    "from csv import reader\n",
    "opened_file_google = open('googleplaystore.csv')\n",
    "read_file_google = reader(opened_file_google)\n",
    "google_apps_data = list(read_file_google)\n",
    "\n",
    "opened_file_apple = open('AppleStore.csv')\n",
    "read_file_apple = reader(opened_file_apple)\n",
    "apple_apps_data = list(read_file_apple)"
   ]
  },
  {
   "cell_type": "code",
   "execution_count": 15,
   "metadata": {},
   "outputs": [
    {
     "name": "stdout",
     "output_type": "stream",
     "text": [
      "[['App', 'Category', 'Rating', 'Reviews', 'Size', 'Installs', 'Type', 'Price', 'Content Rating', 'Genres', 'Last Updated', 'Current Ver', 'Android Ver'], ['Photo Editor & Candy Camera & Grid & ScrapBook', 'ART_AND_DESIGN', '4.1', '159', '19M', '10,000+', 'Free', '0', 'Everyone', 'Art & Design', 'January 7, 2018', '1.0.0', '4.0.3 and up']]\n"
     ]
    }
   ],
   "source": [
    "print(google_apps_data[:2])"
   ]
  },
  {
   "cell_type": "code",
   "execution_count": 16,
   "metadata": {},
   "outputs": [
    {
     "name": "stdout",
     "output_type": "stream",
     "text": [
      "[['id', 'track_name', 'size_bytes', 'currency', 'price', 'rating_count_tot', 'rating_count_ver', 'user_rating', 'user_rating_ver', 'ver', 'cont_rating', 'prime_genre', 'sup_devices.num', 'ipadSc_urls.num', 'lang.num', 'vpp_lic'], ['284882215', 'Facebook', '389879808', 'USD', '0.0', '2974676', '212', '3.5', '3.5', '95.0', '4+', 'Social Networking', '37', '1', '29', '1']]\n"
     ]
    }
   ],
   "source": [
    "print(apple_apps_data[:2])"
   ]
  },
  {
   "cell_type": "code",
   "execution_count": 17,
   "metadata": {},
   "outputs": [],
   "source": [
    "del google_apps_data[10473]"
   ]
  },
  {
   "cell_type": "code",
   "execution_count": 18,
   "metadata": {},
   "outputs": [
    {
     "name": "stdout",
     "output_type": "stream",
     "text": [
      "['osmino Wi-Fi: free WiFi', 'TOOLS', '4.2', '134203', '4.1M', '10,000,000+', 'Free', '0', 'Everyone', 'Tools', 'August 7, 2018', '6.06.14', '4.4 and up']\n"
     ]
    }
   ],
   "source": [
    "print(google_apps_data[10473])"
   ]
  },
  {
   "cell_type": "code",
   "execution_count": 19,
   "metadata": {},
   "outputs": [
    {
     "name": "stdout",
     "output_type": "stream",
     "text": [
      "['Instagram', 'SOCIAL', '4.5', '66577313', 'Varies with device', '1,000,000,000+', 'Free', '0', 'Teen', 'Social', 'July 31, 2018', 'Varies with device', 'Varies with device']\n",
      "['Instagram', 'SOCIAL', '4.5', '66577446', 'Varies with device', '1,000,000,000+', 'Free', '0', 'Teen', 'Social', 'July 31, 2018', 'Varies with device', 'Varies with device']\n",
      "['Instagram', 'SOCIAL', '4.5', '66577313', 'Varies with device', '1,000,000,000+', 'Free', '0', 'Teen', 'Social', 'July 31, 2018', 'Varies with device', 'Varies with device']\n",
      "['Instagram', 'SOCIAL', '4.5', '66509917', 'Varies with device', '1,000,000,000+', 'Free', '0', 'Teen', 'Social', 'July 31, 2018', 'Varies with device', 'Varies with device']\n"
     ]
    }
   ],
   "source": [
    "for row in google_apps_data:\n",
    "    name = row[0]\n",
    "    if name == 'Instagram':\n",
    "        print(row)"
   ]
  },
  {
   "cell_type": "markdown",
   "metadata": {},
   "source": [
    "### Duplicate rows\n",
    "As you can see the result above, Instagram is written four times in the data sheet. There may be some duplicate datas. We will do a search if there are more"
   ]
  },
  {
   "cell_type": "code",
   "execution_count": 20,
   "metadata": {},
   "outputs": [
    {
     "name": "stdout",
     "output_type": "stream",
     "text": [
      "Number of duplicate apps:  1181 \n",
      "\n",
      "Number of unique apps:  9659\n"
     ]
    }
   ],
   "source": [
    "duplicate_apps = []\n",
    "unique_apps = []\n",
    "\n",
    "for row in google_apps_data[1:]: \n",
    "    name = row[0]\n",
    "    if name in unique_apps:\n",
    "        duplicate_apps.append(name)\n",
    "    else:\n",
    "        unique_apps.append(name)\n",
    "    \n",
    "print('Number of duplicate apps: ', len(duplicate_apps), '\\n')\n",
    "print('Number of unique apps: ', len(unique_apps),)\n"
   ]
  },
  {
   "cell_type": "markdown",
   "metadata": {},
   "source": [
    "### 1181 duplicate rows\n",
    "\n",
    "there are a lot of duplicate rows let's look at some of them"
   ]
  },
  {
   "cell_type": "code",
   "execution_count": 21,
   "metadata": {},
   "outputs": [
    {
     "name": "stdout",
     "output_type": "stream",
     "text": [
      "['Quick PDF Scanner + OCR FREE', 'Box', 'Google My Business', 'ZOOM Cloud Meetings', 'join.me - Simple Meetings', 'Box', 'Zenefits', 'Google Ads', 'Google My Business', 'Slack']\n"
     ]
    }
   ],
   "source": [
    "print(duplicate_apps[:10])"
   ]
  },
  {
   "cell_type": "markdown",
   "metadata": {},
   "source": [
    "### Cleaning duplicate rows\n",
    "\n",
    "The duplicate rows needs to be deleted. We could do it randomly. But we discovered a difference between duplicated rows. As you can see in the 3rd index, number of reviews vary. The higher the number of reviews, the more recent the data should be. So we are going to keep the row with the highest number of reviews."
   ]
  },
  {
   "cell_type": "code",
   "execution_count": 22,
   "metadata": {},
   "outputs": [
    {
     "name": "stdout",
     "output_type": "stream",
     "text": [
      "['App', 'Category', 'Rating', 'Reviews', 'Size', 'Installs', 'Type', 'Price', 'Content Rating', 'Genres', 'Last Updated', 'Current Ver', 'Android Ver']\n"
     ]
    }
   ],
   "source": [
    "header_google = google_apps_data[0]\n",
    "print(header_google)"
   ]
  },
  {
   "cell_type": "code",
   "execution_count": 23,
   "metadata": {},
   "outputs": [
    {
     "name": "stdout",
     "output_type": "stream",
     "text": [
      "['Instagram', 'SOCIAL', '4.5', '66577313', 'Varies with device', '1,000,000,000+', 'Free', '0', 'Teen', 'Social', 'July 31, 2018', 'Varies with device', 'Varies with device']\n",
      "['Instagram', 'SOCIAL', '4.5', '66577446', 'Varies with device', '1,000,000,000+', 'Free', '0', 'Teen', 'Social', 'July 31, 2018', 'Varies with device', 'Varies with device']\n",
      "['Instagram', 'SOCIAL', '4.5', '66577313', 'Varies with device', '1,000,000,000+', 'Free', '0', 'Teen', 'Social', 'July 31, 2018', 'Varies with device', 'Varies with device']\n",
      "['Instagram', 'SOCIAL', '4.5', '66509917', 'Varies with device', '1,000,000,000+', 'Free', '0', 'Teen', 'Social', 'July 31, 2018', 'Varies with device', 'Varies with device']\n"
     ]
    }
   ],
   "source": [
    "for row in google_apps_data:\n",
    "    name = row[0]\n",
    "    if name == 'Instagram':\n",
    "        print(row)"
   ]
  },
  {
   "cell_type": "code",
   "execution_count": 24,
   "metadata": {},
   "outputs": [
    {
     "data": {
      "text/plain": [
       "9659"
      ]
     },
     "execution_count": 24,
     "metadata": {},
     "output_type": "execute_result"
    }
   ],
   "source": [
    "reviews_max = {}\n",
    "\n",
    "for row in google_apps_data[1:]:\n",
    "    name = row[0]\n",
    "    n_review = float(row[3])\n",
    "    if name in reviews_max and reviews_max[name] < n_review:\n",
    "        reviews_max[name] = n_review\n",
    "    elif name not in reviews_max:\n",
    "        reviews_max[name] = n_review\n",
    "        \n",
    "len(reviews_max) "
   ]
  },
  {
   "cell_type": "code",
   "execution_count": 25,
   "metadata": {},
   "outputs": [
    {
     "data": {
      "text/plain": [
       "9659"
      ]
     },
     "execution_count": 25,
     "metadata": {},
     "output_type": "execute_result"
    }
   ],
   "source": [
    "android_clean = []\n",
    "already_added = []\n",
    "for row in google_apps_data[1:]:\n",
    "    name = row[0]\n",
    "    n_review = float(row[3])\n",
    "    if n_review == reviews_max[name] and name not in already_added:\n",
    "        android_clean.append(row)\n",
    "        already_added.append(name)\n",
    "len(android_clean)"
   ]
  },
  {
   "cell_type": "code",
   "execution_count": 26,
   "metadata": {},
   "outputs": [
    {
     "name": "stdout",
     "output_type": "stream",
     "text": [
      "[['Photo Editor & Candy Camera & Grid & ScrapBook', 'ART_AND_DESIGN', '4.1', '159', '19M', '10,000+', 'Free', '0', 'Everyone', 'Art & Design', 'January 7, 2018', '1.0.0', '4.0.3 and up'], ['U Launcher Lite – FREE Live Cool Themes, Hide Apps', 'ART_AND_DESIGN', '4.7', '87510', '8.7M', '5,000,000+', 'Free', '0', 'Everyone', 'Art & Design', 'August 1, 2018', '1.2.4', '4.0.3 and up'], ['Sketch - Draw & Paint', 'ART_AND_DESIGN', '4.5', '215644', '25M', '50,000,000+', 'Free', '0', 'Teen', 'Art & Design', 'June 8, 2018', 'Varies with device', '4.2 and up'], ['Pixel Draw - Number Art Coloring Book', 'ART_AND_DESIGN', '4.3', '967', '2.8M', '100,000+', 'Free', '0', 'Everyone', 'Art & Design;Creativity', 'June 20, 2018', '1.1', '4.4 and up'], ['Paper flowers instructions', 'ART_AND_DESIGN', '4.4', '167', '5.6M', '50,000+', 'Free', '0', 'Everyone', 'Art & Design', 'March 26, 2017', '1.0', '2.3 and up']]\n"
     ]
    }
   ],
   "source": [
    "print(android_clean[:5])"
   ]
  },
  {
   "cell_type": "markdown",
   "metadata": {},
   "source": [
    "### Data Cleaning \n",
    "\n",
    "In the last 3 steps above, we first created a dictionary which store app names as a key and for the values the highest number of reviews. "
   ]
  },
  {
   "cell_type": "code",
   "execution_count": 27,
   "metadata": {},
   "outputs": [],
   "source": [
    "def is_english(a_string):\n",
    "    flag = 0\n",
    "    for i in a_string:\n",
    "        if ord(i) > 127:\n",
    "            flag += 1\n",
    "    if flag > 3:\n",
    "        return False\n",
    "    return True"
   ]
  },
  {
   "cell_type": "code",
   "execution_count": 28,
   "metadata": {},
   "outputs": [
    {
     "data": {
      "text/plain": [
       "False"
      ]
     },
     "execution_count": 28,
     "metadata": {},
     "output_type": "execute_result"
    }
   ],
   "source": [
    "is_english('Docs To Go™爱奇艺')"
   ]
  },
  {
   "cell_type": "code",
   "execution_count": 29,
   "metadata": {},
   "outputs": [
    {
     "name": "stdout",
     "output_type": "stream",
     "text": [
      "[['Photo Editor & Candy Camera & Grid & ScrapBook', 'ART_AND_DESIGN', '4.1', '159', '19M', '10,000+', 'Free', '0', 'Everyone', 'Art & Design', 'January 7, 2018', '1.0.0', '4.0.3 and up'], ['U Launcher Lite – FREE Live Cool Themes, Hide Apps', 'ART_AND_DESIGN', '4.7', '87510', '8.7M', '5,000,000+', 'Free', '0', 'Everyone', 'Art & Design', 'August 1, 2018', '1.2.4', '4.0.3 and up']]\n",
      "[['id', 'track_name', 'size_bytes', 'currency', 'price', 'rating_count_tot', 'rating_count_ver', 'user_rating', 'user_rating_ver', 'ver', 'cont_rating', 'prime_genre', 'sup_devices.num', 'ipadSc_urls.num', 'lang.num', 'vpp_lic'], ['284882215', 'Facebook', '389879808', 'USD', '0.0', '2974676', '212', '3.5', '3.5', '95.0', '4+', 'Social Networking', '37', '1', '29', '1']]\n"
     ]
    }
   ],
   "source": [
    "android = []\n",
    "for row in android_clean:\n",
    "    name = row[0]\n",
    "    if is_english(name):\n",
    "        android.append(row)\n",
    "\n",
    "ios = []\n",
    "for row in apple_apps_data:\n",
    "    name = row[1]\n",
    "    if is_english(name):\n",
    "        ios.append(row)\n",
    "        \n",
    "print(android[:2])\n",
    "print(ios[:2])"
   ]
  },
  {
   "cell_type": "code",
   "execution_count": 30,
   "metadata": {},
   "outputs": [
    {
     "name": "stdout",
     "output_type": "stream",
     "text": [
      "[['App', 'Category', 'Rating', 'Reviews', 'Size', 'Installs', 'Type', 'Price', 'Content Rating', 'Genres', 'Last Updated', 'Current Ver', 'Android Ver'], ['Photo Editor & Candy Camera & Grid & ScrapBook', 'ART_AND_DESIGN', '4.1', '159', '19M', '10,000+', 'Free', '0', 'Everyone', 'Art & Design', 'January 7, 2018', '1.0.0', '4.0.3 and up']]\n"
     ]
    }
   ],
   "source": [
    "android.insert(0,header_google)\n",
    "print(android[:2])"
   ]
  },
  {
   "cell_type": "code",
   "execution_count": 31,
   "metadata": {},
   "outputs": [
    {
     "data": {
      "text/plain": [
       "3222"
      ]
     },
     "execution_count": 31,
     "metadata": {},
     "output_type": "execute_result"
    }
   ],
   "source": [
    "android_free = []\n",
    "for row in android[1:]:\n",
    "    if row[6] == 'Free':\n",
    "        android_free.append(row)\n",
    "        \n",
    "ios_free = []\n",
    "for row in ios[1:]:\n",
    "    price = float(row[4])\n",
    "    if price == 0.0:\n",
    "        ios_free.append(row)\n",
    "\n",
    "len(android_free)\n",
    "len(ios_free)"
   ]
  },
  {
   "cell_type": "markdown",
   "metadata": {},
   "source": [
    "# Analysing the data\n",
    "\n",
    "we have cleaned the data for analysing. We are trying to figure out what type of apps are downloaded more. "
   ]
  },
  {
   "cell_type": "code",
   "execution_count": 32,
   "metadata": {},
   "outputs": [],
   "source": [
    "google_category_fq = {}\n",
    "for row in android_free:\n",
    "    category = row[1]\n",
    "    if category in google_category_fq:\n",
    "        google_category_fq[category] += 1\n",
    "    else:\n",
    "        google_category_fq[category] = 1\n"
   ]
  },
  {
   "cell_type": "code",
   "execution_count": 33,
   "metadata": {},
   "outputs": [
    {
     "name": "stdout",
     "output_type": "stream",
     "text": [
      "{'ART_AND_DESIGN': 57, 'AUTO_AND_VEHICLES': 82, 'BEAUTY': 53, 'BOOKS_AND_REFERENCE': 190, 'BUSINESS': 407, 'COMICS': 55, 'COMMUNICATION': 287, 'DATING': 165, 'EDUCATION': 103, 'ENTERTAINMENT': 85, 'EVENTS': 63, 'FINANCE': 328, 'FOOD_AND_DRINK': 110, 'HEALTH_AND_FITNESS': 273, 'HOUSE_AND_HOME': 73, 'LIBRARIES_AND_DEMO': 83, 'LIFESTYLE': 346, 'GAME': 862, 'FAMILY': 1675, 'MEDICAL': 313, 'SOCIAL': 236, 'SHOPPING': 199, 'PHOTOGRAPHY': 261, 'SPORTS': 301, 'TRAVEL_AND_LOCAL': 207, 'TOOLS': 750, 'PERSONALIZATION': 294, 'PRODUCTIVITY': 345, 'PARENTING': 58, 'WEATHER': 71, 'VIDEO_PLAYERS': 159, 'NEWS_AND_MAGAZINES': 248, 'MAPS_AND_NAVIGATION': 124}\n"
     ]
    }
   ],
   "source": [
    "print(google_category_fq)"
   ]
  },
  {
   "cell_type": "markdown",
   "metadata": {},
   "source": [
    "### Family Category\n",
    "\n",
    "\"Family\" is the most common category in google play store. Now let's create a function to make frequency tables easily"
   ]
  },
  {
   "cell_type": "code",
   "execution_count": 35,
   "metadata": {},
   "outputs": [],
   "source": [
    "def freq_table(dataset, index):\n",
    "    frequency_table = {}\n",
    "    for row in dataset:\n",
    "        key = row[index]\n",
    "        if key in frequency_table:\n",
    "            frequency_table[key] += 1\n",
    "        else: \n",
    "            frequency_table[key] = 1\n",
    "    return frequency_table"
   ]
  },
  {
   "cell_type": "code",
   "execution_count": 36,
   "metadata": {},
   "outputs": [],
   "source": [
    "def display_table(dataset, index):\n",
    "    table = freq_table(dataset, index)\n",
    "    table_display = []\n",
    "    for key in table:\n",
    "        key_val_as_tuple = (table[key], key)\n",
    "        table_display.append(key_val_as_tuple)\n",
    "    table_sorted = sorted(table_display, reverse=True)\n",
    "    for table in table_sorted:\n",
    "        print(table[1], ': ', table[0] )"
   ]
  },
  {
   "cell_type": "markdown",
   "metadata": {},
   "source": [
    "## Most common app by prime_genre in play store"
   ]
  },
  {
   "cell_type": "code",
   "execution_count": 39,
   "metadata": {},
   "outputs": [
    {
     "name": "stdout",
     "output_type": "stream",
     "text": [
      "FAMILY :  1675\n",
      "GAME :  862\n",
      "TOOLS :  750\n",
      "BUSINESS :  407\n",
      "LIFESTYLE :  346\n",
      "PRODUCTIVITY :  345\n",
      "FINANCE :  328\n",
      "MEDICAL :  313\n",
      "SPORTS :  301\n",
      "PERSONALIZATION :  294\n",
      "COMMUNICATION :  287\n",
      "HEALTH_AND_FITNESS :  273\n",
      "PHOTOGRAPHY :  261\n",
      "NEWS_AND_MAGAZINES :  248\n",
      "SOCIAL :  236\n",
      "TRAVEL_AND_LOCAL :  207\n",
      "SHOPPING :  199\n",
      "BOOKS_AND_REFERENCE :  190\n",
      "DATING :  165\n",
      "VIDEO_PLAYERS :  159\n",
      "MAPS_AND_NAVIGATION :  124\n",
      "FOOD_AND_DRINK :  110\n",
      "EDUCATION :  103\n",
      "ENTERTAINMENT :  85\n",
      "LIBRARIES_AND_DEMO :  83\n",
      "AUTO_AND_VEHICLES :  82\n",
      "HOUSE_AND_HOME :  73\n",
      "WEATHER :  71\n",
      "EVENTS :  63\n",
      "PARENTING :  58\n",
      "ART_AND_DESIGN :  57\n",
      "COMICS :  55\n",
      "BEAUTY :  53\n"
     ]
    }
   ],
   "source": [
    "display_table(android_free, 1)"
   ]
  },
  {
   "cell_type": "markdown",
   "metadata": {},
   "source": [
    "## Most common app by Genres in Play Store"
   ]
  },
  {
   "cell_type": "code",
   "execution_count": 40,
   "metadata": {},
   "outputs": [
    {
     "name": "stdout",
     "output_type": "stream",
     "text": [
      "Tools :  749\n",
      "Entertainment :  538\n",
      "Education :  474\n",
      "Business :  407\n",
      "Productivity :  345\n",
      "Lifestyle :  345\n",
      "Finance :  328\n",
      "Medical :  313\n",
      "Sports :  307\n",
      "Personalization :  294\n",
      "Communication :  287\n",
      "Action :  275\n",
      "Health & Fitness :  273\n",
      "Photography :  261\n",
      "News & Magazines :  248\n",
      "Social :  236\n",
      "Travel & Local :  206\n",
      "Shopping :  199\n",
      "Books & Reference :  190\n",
      "Simulation :  181\n",
      "Dating :  165\n",
      "Arcade :  164\n",
      "Video Players & Editors :  157\n",
      "Casual :  156\n",
      "Maps & Navigation :  124\n",
      "Food & Drink :  110\n",
      "Puzzle :  100\n",
      "Racing :  88\n",
      "Role Playing :  83\n",
      "Libraries & Demo :  83\n",
      "Auto & Vehicles :  82\n",
      "Strategy :  80\n",
      "House & Home :  73\n",
      "Weather :  71\n",
      "Events :  63\n",
      "Adventure :  60\n",
      "Comics :  54\n",
      "Beauty :  53\n",
      "Art & Design :  53\n",
      "Parenting :  44\n",
      "Card :  40\n",
      "Casino :  38\n",
      "Trivia :  37\n",
      "Educational;Education :  35\n",
      "Board :  34\n",
      "Educational :  33\n",
      "Education;Education :  30\n",
      "Word :  23\n",
      "Casual;Pretend Play :  21\n",
      "Music :  18\n",
      "Racing;Action & Adventure :  15\n",
      "Puzzle;Brain Games :  15\n",
      "Entertainment;Music & Video :  15\n",
      "Casual;Brain Games :  12\n",
      "Casual;Action & Adventure :  12\n",
      "Arcade;Action & Adventure :  11\n",
      "Action;Action & Adventure :  9\n",
      "Educational;Pretend Play :  8\n",
      "Simulation;Action & Adventure :  7\n",
      "Parenting;Education :  7\n",
      "Entertainment;Brain Games :  7\n",
      "Board;Brain Games :  7\n",
      "Parenting;Music & Video :  6\n",
      "Educational;Brain Games :  6\n",
      "Casual;Creativity :  6\n",
      "Art & Design;Creativity :  6\n",
      "Education;Pretend Play :  5\n",
      "Role Playing;Pretend Play :  4\n",
      "Education;Creativity :  4\n",
      "Role Playing;Action & Adventure :  3\n",
      "Puzzle;Action & Adventure :  3\n",
      "Entertainment;Creativity :  3\n",
      "Entertainment;Action & Adventure :  3\n",
      "Educational;Creativity :  3\n",
      "Educational;Action & Adventure :  3\n",
      "Education;Music & Video :  3\n",
      "Education;Brain Games :  3\n",
      "Education;Action & Adventure :  3\n",
      "Adventure;Action & Adventure :  3\n",
      "Video Players & Editors;Music & Video :  2\n",
      "Sports;Action & Adventure :  2\n",
      "Simulation;Pretend Play :  2\n",
      "Puzzle;Creativity :  2\n",
      "Music;Music & Video :  2\n",
      "Entertainment;Pretend Play :  2\n",
      "Casual;Education :  2\n",
      "Board;Action & Adventure :  2\n",
      "Video Players & Editors;Creativity :  1\n",
      "Trivia;Education :  1\n",
      "Travel & Local;Action & Adventure :  1\n",
      "Tools;Education :  1\n",
      "Strategy;Education :  1\n",
      "Strategy;Creativity :  1\n",
      "Strategy;Action & Adventure :  1\n",
      "Simulation;Education :  1\n",
      "Role Playing;Brain Games :  1\n",
      "Racing;Pretend Play :  1\n",
      "Puzzle;Education :  1\n",
      "Parenting;Brain Games :  1\n",
      "Music & Audio;Music & Video :  1\n",
      "Lifestyle;Pretend Play :  1\n",
      "Lifestyle;Education :  1\n",
      "Health & Fitness;Education :  1\n",
      "Health & Fitness;Action & Adventure :  1\n",
      "Entertainment;Education :  1\n",
      "Communication;Creativity :  1\n",
      "Comics;Creativity :  1\n",
      "Casual;Music & Video :  1\n",
      "Card;Action & Adventure :  1\n",
      "Books & Reference;Education :  1\n",
      "Art & Design;Pretend Play :  1\n",
      "Art & Design;Action & Adventure :  1\n",
      "Arcade;Pretend Play :  1\n",
      "Adventure;Education :  1\n"
     ]
    }
   ],
   "source": [
    "display_table(android_free, 9)"
   ]
  },
  {
   "cell_type": "markdown",
   "metadata": {},
   "source": [
    "## Most Common Category in AppStore"
   ]
  },
  {
   "cell_type": "code",
   "execution_count": 38,
   "metadata": {},
   "outputs": [
    {
     "name": "stdout",
     "output_type": "stream",
     "text": [
      "Games :  1874\n",
      "Entertainment :  254\n",
      "Photo & Video :  160\n",
      "Education :  118\n",
      "Social Networking :  106\n",
      "Shopping :  84\n",
      "Utilities :  81\n",
      "Sports :  69\n",
      "Music :  66\n",
      "Health & Fitness :  65\n",
      "Productivity :  56\n",
      "Lifestyle :  51\n",
      "News :  43\n",
      "Travel :  40\n",
      "Finance :  36\n",
      "Weather :  28\n",
      "Food & Drink :  26\n",
      "Reference :  18\n",
      "Business :  17\n",
      "Book :  14\n",
      "Navigation :  6\n",
      "Medical :  6\n",
      "Catalogs :  4\n"
     ]
    }
   ],
   "source": [
    "display_table(ios_free, 11)"
   ]
  },
  {
   "cell_type": "code",
   "execution_count": 42,
   "metadata": {},
   "outputs": [],
   "source": [
    "uniqe_apps_freq = freq_table(ios_free, 11)"
   ]
  },
  {
   "cell_type": "code",
   "execution_count": 47,
   "metadata": {},
   "outputs": [
    {
     "name": "stdout",
     "output_type": "stream",
     "text": [
      "{'Social Networking': 0, 'Photo & Video': 0, 'Games': 0, 'Music': 0, 'Reference': 0, 'Health & Fitness': 0, 'Weather': 0, 'Utilities': 0, 'Travel': 0, 'Shopping': 0, 'News': 0, 'Navigation': 0, 'Lifestyle': 0, 'Entertainment': 0, 'Food & Drink': 0, 'Sports': 0, 'Book': 0, 'Finance': 0, 'Education': 0, 'Productivity': 0, 'Business': 0, 'Catalogs': 0, 'Medical': 0}\n"
     ]
    }
   ],
   "source": [
    "for i in uniqe_apps_freq:\n",
    "    uniqe_apps_freq[i] = 0\n",
    "print(uniqe_apps_freq)"
   ]
  },
  {
   "cell_type": "code",
   "execution_count": 48,
   "metadata": {},
   "outputs": [
    {
     "name": "stdout",
     "output_type": "stream",
     "text": [
      "{'Social Networking': 7584125.0, 'Photo & Video': 4550647.0, 'Games': 42705967.0, 'Music': 3783551.0, 'Reference': 1348958.0, 'Health & Fitness': 1514371.0, 'Weather': 1463837.0, 'Utilities': 1513441.0, 'Travel': 1129752.0, 'Shopping': 2261254.0, 'News': 913665.0, 'Navigation': 516542.0, 'Lifestyle': 840774.0, 'Entertainment': 3563577.0, 'Food & Drink': 866682.0, 'Sports': 1587614.0, 'Book': 556619.0, 'Finance': 1132846.0, 'Education': 826470.0, 'Productivity': 1177591.0, 'Business': 127349.0, 'Catalogs': 16016.0, 'Medical': 3672.0}\n"
     ]
    }
   ],
   "source": [
    "for i in uniqe_apps_freq:\n",
    "    for row in ios_free:\n",
    "        if row[11] == i:\n",
    "            uniqe_apps_freq[i] += float(row[5])\n",
    "print(uniqe_apps_freq)\n",
    "    "
   ]
  },
  {
   "cell_type": "code",
   "execution_count": 56,
   "metadata": {},
   "outputs": [
    {
     "name": "stdout",
     "output_type": "stream",
     "text": [
      "Games :  42705967.0\n",
      "Social Networking :  7584125.0\n",
      "Photo & Video :  4550647.0\n",
      "Music :  3783551.0\n",
      "Entertainment :  3563577.0\n",
      "Shopping :  2261254.0\n",
      "Sports :  1587614.0\n",
      "Health & Fitness :  1514371.0\n",
      "Utilities :  1513441.0\n",
      "Weather :  1463837.0\n",
      "Reference :  1348958.0\n",
      "Productivity :  1177591.0\n",
      "Finance :  1132846.0\n",
      "Travel :  1129752.0\n",
      "News :  913665.0\n",
      "Food & Drink :  866682.0\n",
      "Lifestyle :  840774.0\n",
      "Education :  826470.0\n",
      "Book :  556619.0\n",
      "Navigation :  516542.0\n",
      "Business :  127349.0\n",
      "Catalogs :  16016.0\n",
      "Medical :  3672.0\n"
     ]
    }
   ],
   "source": [
    "table_display= []\n",
    "for i in uniqe_apps_freq:\n",
    "    tuple_rating_freq = (uniqe_apps_freq[i], i)\n",
    "    table_display.append(tuple_rating_freq)\n",
    "table_sorted = sorted(table_display, reverse=True)\n",
    "for i in table_sorted:\n",
    "    print(i[1] ,': ',i[0])\n"
   ]
  },
  {
   "cell_type": "code",
   "execution_count": 58,
   "metadata": {},
   "outputs": [
    {
     "name": "stdout",
     "output_type": "stream",
     "text": [
      "ART_AND_DESIGN :  1986335.0877192982\n",
      "AUTO_AND_VEHICLES :  647317.8170731707\n",
      "BEAUTY :  513151.88679245283\n",
      "BOOKS_AND_REFERENCE :  8767811.894736841\n",
      "BUSINESS :  1712290.1474201474\n",
      "COMICS :  817657.2727272727\n",
      "COMMUNICATION :  38456119.167247385\n",
      "DATING :  854028.8303030303\n",
      "EDUCATION :  1833495.145631068\n",
      "ENTERTAINMENT :  11640705.88235294\n",
      "EVENTS :  253542.22222222222\n",
      "FINANCE :  1387692.475609756\n",
      "FOOD_AND_DRINK :  1924897.7363636363\n",
      "HEALTH_AND_FITNESS :  4188821.9853479853\n",
      "HOUSE_AND_HOME :  1331540.5616438356\n",
      "LIBRARIES_AND_DEMO :  638503.734939759\n",
      "LIFESTYLE :  1437816.2687861272\n",
      "GAME :  15588015.603248259\n",
      "FAMILY :  3697848.1731343283\n",
      "MEDICAL :  120550.61980830671\n",
      "SOCIAL :  23253652.127118643\n",
      "SHOPPING :  7036877.311557789\n",
      "PHOTOGRAPHY :  17840110.40229885\n",
      "SPORTS :  3638640.1428571427\n",
      "TRAVEL_AND_LOCAL :  13984077.710144928\n",
      "TOOLS :  10801391.298666667\n",
      "PERSONALIZATION :  5201482.6122448975\n",
      "PRODUCTIVITY :  16787331.344927534\n",
      "PARENTING :  542603.6206896552\n",
      "WEATHER :  5074486.197183099\n",
      "VIDEO_PLAYERS :  24727872.452830188\n",
      "NEWS_AND_MAGAZINES :  9549178.467741935\n",
      "MAPS_AND_NAVIGATION :  4056941.7741935486\n"
     ]
    }
   ],
   "source": [
    "categories_android = freq_table(android_free, 1)\n",
    "\n",
    "for var in categories_android:\n",
    "    total = 0\n",
    "    len_category = 0\n",
    "    for row in android_free:\n",
    "        ctg = row[1]\n",
    "        if var == ctg:\n",
    "            n_installs = row[5]\n",
    "            n_installs = n_installs.replace(',','')\n",
    "            n_installs = n_installs.replace('+','')\n",
    "            total += float(n_installs)\n",
    "            len_category += 1\n",
    "    avg_n_installs = total / len_category\n",
    "    print(var, ': ', avg_n_installs)"
   ]
  },
  {
   "cell_type": "code",
   "execution_count": 59,
   "metadata": {},
   "outputs": [
    {
     "name": "stdout",
     "output_type": "stream",
     "text": [
      "WhatsApp Messenger : 1,000,000,000+\n",
      "imo beta free calls and text : 100,000,000+\n",
      "Android Messages : 100,000,000+\n",
      "Google Duo - High Quality Video Calls : 500,000,000+\n",
      "Messenger – Text and Video Chat for Free : 1,000,000,000+\n",
      "imo free video calls and chat : 500,000,000+\n",
      "Skype - free IM & video calls : 1,000,000,000+\n",
      "Who : 100,000,000+\n",
      "GO SMS Pro - Messenger, Free Themes, Emoji : 100,000,000+\n",
      "LINE: Free Calls & Messages : 500,000,000+\n",
      "Google Chrome: Fast & Secure : 1,000,000,000+\n",
      "Firefox Browser fast & private : 100,000,000+\n",
      "UC Browser - Fast Download Private & Secure : 500,000,000+\n",
      "Gmail : 1,000,000,000+\n",
      "Hangouts : 1,000,000,000+\n",
      "Messenger Lite: Free Calls & Messages : 100,000,000+\n",
      "Kik : 100,000,000+\n",
      "KakaoTalk: Free Calls & Text : 100,000,000+\n",
      "Opera Mini - fast web browser : 100,000,000+\n",
      "Opera Browser: Fast and Secure : 100,000,000+\n",
      "Telegram : 100,000,000+\n",
      "Truecaller: Caller ID, SMS spam blocking & Dialer : 100,000,000+\n",
      "UC Browser Mini -Tiny Fast Private & Secure : 100,000,000+\n",
      "Viber Messenger : 500,000,000+\n",
      "WeChat : 100,000,000+\n",
      "Yahoo Mail – Stay Organized : 100,000,000+\n",
      "BBM - Free Calls & Messages : 100,000,000+\n"
     ]
    }
   ],
   "source": [
    "for app in android_free:\n",
    "    if app[1] == 'COMMUNICATION' and (app[5] == '1,000,000,000+'\n",
    "                                      or app[5] == '500,000,000+'\n",
    "                                      or app[5] == '100,000,000+'):\n",
    "        print(app[0], ':', app[5])"
   ]
  },
  {
   "cell_type": "code",
   "execution_count": null,
   "metadata": {},
   "outputs": [],
   "source": []
  }
 ],
 "metadata": {
  "kernelspec": {
   "display_name": "Python 3",
   "language": "python",
   "name": "python3"
  },
  "language_info": {
   "codemirror_mode": {
    "name": "ipython",
    "version": 3
   },
   "file_extension": ".py",
   "mimetype": "text/x-python",
   "name": "python",
   "nbconvert_exporter": "python",
   "pygments_lexer": "ipython3",
   "version": "3.7.3"
  }
 },
 "nbformat": 4,
 "nbformat_minor": 2
}
