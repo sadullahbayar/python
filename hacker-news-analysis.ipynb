{
 "cells": [
  {
   "cell_type": "markdown",
   "metadata": {},
   "source": [
    "# Hacker News Data Analysis\n",
    "\n",
    "The data is taken from kaggle (https://www.kaggle.com/hacker-news/hacker-news-posts/version/1). It involves the post submissions with the data of the submitter, the title, URL linked and creation date.\n"
   ]
  },
  {
   "cell_type": "code",
   "execution_count": 1,
   "metadata": {},
   "outputs": [],
   "source": [
    "from csv import reader\n",
    "opened_file = open(\"hacker_news.csv\")\n",
    "read_file = reader(opened_file)\n",
    "hn = list(read_file)"
   ]
  },
  {
   "cell_type": "code",
   "execution_count": 3,
   "metadata": {},
   "outputs": [
    {
     "name": "stdout",
     "output_type": "stream",
     "text": [
      "['id', 'title', 'url', 'num_points', 'num_comments', 'author', 'created_at']\n"
     ]
    }
   ],
   "source": [
    "print(hn[0])"
   ]
  },
  {
   "cell_type": "code",
   "execution_count": 6,
   "metadata": {},
   "outputs": [],
   "source": [
    "hn = hn[1:]"
   ]
  },
  {
   "cell_type": "code",
   "execution_count": 12,
   "metadata": {},
   "outputs": [],
   "source": [
    "ask_posts = []\n",
    "show_posts = []\n",
    "other_posts = []\n",
    "\n",
    "for row in hn:\n",
    "    title = row[1].lower()\n",
    "    if title.startswith('ask hn'):\n",
    "        ask_posts.append(row)\n",
    "    elif title.startswith('show hn'):\n",
    "        show_posts.append(row)\n",
    "    else: \n",
    "        other_posts.append(row)\n",
    "    "
   ]
  },
  {
   "cell_type": "code",
   "execution_count": 13,
   "metadata": {},
   "outputs": [
    {
     "data": {
      "text/plain": [
       "9139"
      ]
     },
     "execution_count": 13,
     "metadata": {},
     "output_type": "execute_result"
    }
   ],
   "source": [
    "len(ask_posts)"
   ]
  },
  {
   "cell_type": "code",
   "execution_count": 14,
   "metadata": {},
   "outputs": [
    {
     "data": {
      "text/plain": [
       "10158"
      ]
     },
     "execution_count": 14,
     "metadata": {},
     "output_type": "execute_result"
    }
   ],
   "source": [
    "len(show_posts)"
   ]
  },
  {
   "cell_type": "code",
   "execution_count": 20,
   "metadata": {},
   "outputs": [
    {
     "data": {
      "text/plain": [
       "273822"
      ]
     },
     "execution_count": 20,
     "metadata": {},
     "output_type": "execute_result"
    }
   ],
   "source": [
    "len(other_posts)"
   ]
  },
  {
   "cell_type": "code",
   "execution_count": 22,
   "metadata": {},
   "outputs": [
    {
     "name": "stdout",
     "output_type": "stream",
     "text": [
      "Total comments on Ask Hn posts is 94986. The average comment that an Ask HN post gets is 10.393478498741656\n"
     ]
    }
   ],
   "source": [
    "total_ask_comments = 0\n",
    "for row in ask_posts:\n",
    "    comment = int(row[4])\n",
    "    total_ask_comments += comment\n",
    "\n",
    "average_ask_comments = total_ask_comments / len(ask_posts)    \n",
    "result = 'Total comments on Ask Hn posts is {}. The average comment that an Ask HN post gets is {}'.format(total_ask_comments, average_ask_comments)\n",
    "print(result)"
   ]
  },
  {
   "cell_type": "code",
   "execution_count": 25,
   "metadata": {},
   "outputs": [
    {
     "name": "stdout",
     "output_type": "stream",
     "text": [
      "Total Comments on Show HN Posts : 49633 \n",
      "The average comment that an Show Hn post gets: 4.886099625910612\n"
     ]
    }
   ],
   "source": [
    "total_show_comments = 0\n",
    "for row in show_posts:\n",
    "    comment = int(row[4])\n",
    "    total_show_comments += comment\n",
    "    \n",
    "average_show_comments = total_show_comments / len(show_posts)\n",
    "result = 'Total Comments on Show HN Posts : {} \\nThe average comment that an Show Hn post gets: {}'.format(total_show_comments, average_show_comments)\n",
    "print(result)"
   ]
  },
  {
   "cell_type": "markdown",
   "metadata": {},
   "source": [
    "## Average Comments \n",
    "\n",
    "We have calculated the total comments. Ask HN posts has almost 95K comments and the average comment an Ask Hn post gets is 10 \n",
    "\n",
    "Show Hn posts has a total of 50K comments. The average number of comments is 5 "
   ]
  },
  {
   "cell_type": "code",
   "execution_count": 26,
   "metadata": {},
   "outputs": [],
   "source": [
    "import datetime as dt"
   ]
  },
  {
   "cell_type": "code",
   "execution_count": 27,
   "metadata": {},
   "outputs": [],
   "source": [
    "result_list = []\n",
    "for row in ask_posts:\n",
    "    date = row[-1]\n",
    "    comment = int(row[4])\n",
    "    result_list.append([date, comment])"
   ]
  },
  {
   "cell_type": "code",
   "execution_count": 37,
   "metadata": {},
   "outputs": [],
   "source": [
    "counts_by_hour = {}\n",
    "comments_by_hour = {}\n",
    "\n",
    "for row in result_list:\n",
    "    date = dt.datetime.strptime(row[0], '%m/%d/%Y %H:%M')\n",
    "    date = dt.datetime.strftime(date, '%H')\n",
    "    comment = row[1]\n",
    "    \n",
    "    if date not in counts_by_hour:\n",
    "        counts_by_hour[date] = 1\n",
    "        comments_by_hour[date] = comment\n",
    "    else: \n",
    "        counts_by_hour[date] += 1\n",
    "        comments_by_hour[date] += comment\n",
    "    "
   ]
  },
  {
   "cell_type": "code",
   "execution_count": 41,
   "metadata": {},
   "outputs": [
    {
     "name": "stdout",
     "output_type": "stream",
     "text": [
      "{'02': 269, '01': 282, '22': 383, '21': 518, '19': 552, '17': 587, '15': 646, '14': 513, '13': 444, '11': 312, '10': 282, '09': 222, '07': 226, '03': 271, '23': 343, '20': 510, '16': 579, '08': 257, '00': 301, '18': 614, '12': 342, '04': 243, '06': 234, '05': 209}\n",
      "{'02': 2996, '01': 2089, '22': 3372, '21': 4500, '19': 3954, '17': 5547, '15': 18525, '14': 4972, '13': 7245, '11': 2797, '10': 3013, '09': 1477, '07': 1585, '03': 2154, '23': 2297, '20': 4462, '16': 4466, '08': 2362, '00': 2277, '18': 4877, '12': 4234, '04': 2360, '06': 1587, '05': 1838}\n"
     ]
    }
   ],
   "source": [
    "print(counts_by_hour)\n",
    "print(comments_by_hour)"
   ]
  },
  {
   "cell_type": "code",
   "execution_count": 44,
   "metadata": {},
   "outputs": [],
   "source": [
    "avg_by_hour = []\n",
    "for hour in comments_by_hour:\n",
    "    average = comments_by_hour[hour] / counts_by_hour[hour]\n",
    "    avg_by_hour.append([hour, average])\n"
   ]
  },
  {
   "cell_type": "code",
   "execution_count": 45,
   "metadata": {},
   "outputs": [
    {
     "name": "stdout",
     "output_type": "stream",
     "text": [
      "02 :  11.137546468401487\n",
      "01 :  7.407801418439717\n",
      "22 :  8.804177545691905\n",
      "21 :  8.687258687258687\n",
      "19 :  7.163043478260869\n",
      "17 :  9.449744463373083\n",
      "15 :  28.676470588235293\n",
      "14 :  9.692007797270955\n",
      "13 :  16.31756756756757\n",
      "11 :  8.96474358974359\n",
      "10 :  10.684397163120567\n",
      "09 :  6.653153153153153\n",
      "07 :  7.013274336283186\n",
      "03 :  7.948339483394834\n",
      "23 :  6.696793002915452\n",
      "20 :  8.749019607843136\n",
      "16 :  7.713298791018998\n",
      "08 :  9.190661478599221\n",
      "00 :  7.5647840531561465\n",
      "18 :  7.94299674267101\n",
      "12 :  12.380116959064328\n",
      "04 :  9.7119341563786\n",
      "06 :  6.782051282051282\n",
      "05 :  8.794258373205741\n"
     ]
    }
   ],
   "source": [
    "for row in avg_by_hour:\n",
    "    print(row[0],': ', row[1])"
   ]
  },
  {
   "cell_type": "code",
   "execution_count": 47,
   "metadata": {},
   "outputs": [],
   "source": [
    "swap_avg_by_hour = []\n",
    "for row in avg_by_hour:\n",
    "    time = row[0]\n",
    "    comment = row[1]\n",
    "    swap_avg_by_hour.append([comment, time])\n",
    "    \n",
    "sorted_swap = sorted(swap_avg_by_hour, reverse=True)"
   ]
  },
  {
   "cell_type": "code",
   "execution_count": 50,
   "metadata": {},
   "outputs": [
    {
     "name": "stdout",
     "output_type": "stream",
     "text": [
      "Top 5 Hours for Ask Post Comments\n",
      "15:00: 28.68 average comments per post \n",
      "13:00: 16.32 average comments per post \n",
      "12:00: 12.38 average comments per post \n",
      "02:00: 11.14 average comments per post \n",
      "10:00: 10.68 average comments per post \n",
      "04:00: 9.71 average comments per post \n"
     ]
    }
   ],
   "source": [
    "print('Top 5 Hours for Ask Post Comments')\n",
    "for row in sorted_swap[:6]:\n",
    "    comment = row[0]\n",
    "    date = row[1]\n",
    "    date = dt.datetime.strptime(date, '%H')\n",
    "    date = dt.datetime.strftime(date, '%H:%M')\n",
    "    print('{hour}: {comment:.2f} average comments per post '.format(hour=date, comment=comment))"
   ]
  },
  {
   "cell_type": "code",
   "execution_count": null,
   "metadata": {},
   "outputs": [],
   "source": []
  }
 ],
 "metadata": {
  "kernelspec": {
   "display_name": "Python 3",
   "language": "python",
   "name": "python3"
  },
  "language_info": {
   "codemirror_mode": {
    "name": "ipython",
    "version": 3
   },
   "file_extension": ".py",
   "mimetype": "text/x-python",
   "name": "python",
   "nbconvert_exporter": "python",
   "pygments_lexer": "ipython3",
   "version": "3.7.3"
  }
 },
 "nbformat": 4,
 "nbformat_minor": 2
}
